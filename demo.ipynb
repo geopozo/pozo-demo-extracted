{
 "cells": [
  {
   "cell_type": "markdown",
   "id": "66772f8c",
   "metadata": {},
   "source": [
    "# Pozo Demo\n",
    "\n",
    "\n",
    "### Step 1: Import Packages"
   ]
  },
  {
   "cell_type": "code",
   "execution_count": null,
   "id": "17af194b-e2a6-40ef-aa07-6e3f15d4f247",
   "metadata": {},
   "outputs": [],
   "source": [
    "import lasio # Lasio reads well las files!\n",
    "import pozo # Pozo visualizes them!"
   ]
  },
  {
   "cell_type": "markdown",
   "id": "9f5ecdc1-e577-4cd1-ab2e-11bf0a67fee0",
   "metadata": {},
   "source": [
    "### Step 2: Import and Verify Data"
   ]
  },
  {
   "cell_type": "code",
   "execution_count": null,
   "id": "7db8da54-4ead-40b9-a26c-0fd4b660e1cb",
   "metadata": {},
   "outputs": [],
   "source": [
    "las = lasio.read(\"https://raw.githubusercontent.com/geopozo/pozo-demo/main/SALADIN.LAS\")\n",
    "\n",
    "pozo.units.check_las(las)"
   ]
  },
  {
   "cell_type": "code",
   "execution_count": null,
   "id": "27e8f235-2238-4d75-b691-a01f6f4b5f73",
   "metadata": {},
   "outputs": [],
   "source": [
    "graph1 = pozo.Graph(las, unit_map={\"THOR\":\"ppm\", \"POTA\":\"fraction\"})\n",
    "graph1.render(height=600, override_theme={\"color\":\"black\", \"track_width\":90}, depth_position=1)"
   ]
  },
  {
   "cell_type": "markdown",
   "id": "796ff3bf-883a-4d03-b49d-4847b929f3ee",
   "metadata": {},
   "source": [
    "### Step 3: Customize The Graph"
   ]
  },
  {
   "cell_type": "code",
   "execution_count": null,
   "id": "c1d82e18-7028-49d0-8436-2e41fb586ff4",
   "metadata": {},
   "outputs": [],
   "source": [
    "include = [\"CALI\", \"CGR\", \"LLS\", \"ILM\", \"ILD\", \"LLD\", \"NPHI\", \"RHOB\", \"GR\"]\n",
    "graph2 = pozo.Graph(las,  yaxis_name=\"DEPT:1\", include=include) \n",
    "\n",
    "# Combining CGR CALI\n",
    "graph2.combine_tracks(\"CGR\", \"CALI\")\n",
    "\n",
    "# Combining Conductivities\n",
    "graph2.combine_tracks(\"LLD\",\"ILD\",\"ILM\",\"LLS\") \n",
    "\n",
    "# Combining NPHI RHOB\n",
    "graph2.combine_tracks(\"RHOB\", \"NPHI\")\n",
    "\n",
    "\n",
    "graph2.set_theme(\"cangrejo\")\n",
    "graph2.get_theme().set_fallback(\"track_width\", 150)\n",
    "\n",
    "# This could have a better interface\n",
    "graph2.depth_notes['Mardie Greensand'] = dict(range = 1105, color=\"#00FFFF\")\n",
    "graph2.depth_notes['Barrow Group'] = dict(range = 1115, color=\"green\")\n",
    "\n",
    "graph2.render(depth_position=0, show_depth=True, depth=[1080, 1180])"
   ]
  },
  {
   "cell_type": "markdown",
   "id": "4797c6c3-bcc5-47be-9a5a-c8d3735dbdc4",
   "metadata": {},
   "source": [
    "### Step 4: Make a crossplot"
   ]
  },
  {
   "cell_type": "code",
   "execution_count": null,
   "id": "0cf8bb34-ed2a-4839-9306-ecbb25e7b21e",
   "metadata": {},
   "outputs": [],
   "source": [
    "graph2.CrossPlot(\n",
    "    x = graph2.get_traces(pozo.HasLog(\"NPHI\"))[0],\n",
    "    y = graph2.get_traces(pozo.HasLog(\"RHOB\"))[0],\n",
    "    colors = [\"depth\"],#, graph2.get_traces(pozo.HasLog(\"GR\"))[0]],\n",
    "    xrange=(45, -15),\n",
    "    yrange=(1.95, 2.945),\n",
    "    size=800,\n",
    "    depth_range=(1100, 1300),\n",
    ").render()"
   ]
  },
  {
   "cell_type": "markdown",
   "id": "bc00d64f-6bc7-4533-8878-c6121451308e",
   "metadata": {},
   "source": [
    "### Step 5: Make an interactive crossplot"
   ]
  },
  {
   "cell_type": "code",
   "execution_count": null,
   "id": "791eaa6c-880f-4ca7-a359-b3ac8ceee71a",
   "metadata": {},
   "outputs": [],
   "source": [
    "\n",
    "graph2.render(height=800, depth_position=1, xp=graph2.xp, depth=[1100, 1300],)"
   ]
  },
  {
   "cell_type": "code",
   "execution_count": null,
   "id": "abe2f175-80ee-4886-b365-6b0a8f18fa53",
   "metadata": {},
   "outputs": [],
   "source": [
    "\n",
    "\n",
    "trace = graph2.get_traces()[0]\n",
    "depth = trace.get_depth()\n",
    "window = 25\n",
    "start = 1100\n",
    "end = 1200\n",
    "start_index = trace.find_nearest(start)[0]\n",
    "window_index = trace.find_nearest(start+window)[0] - start_index\n",
    "end_index = trace.find_nearest(end)[0]\n",
    "\n",
    "frame_count = range(start_index, end_index-window_index, 1)\n",
    "paths = []\n",
    "for i, cursor in enumerate(frame_count):\n",
    "    print(f\"{i} / {len(frame_count)}\")\n",
    "    graph2.depth_notes['Depth Highlight'] = dict(range = (depth[cursor], depth[cursor+window_index]), show_text=False)\n",
    "    graph2.render(\n",
    "        height=800,\n",
    "        xp=graph2.xp,\n",
    "        depth_position=1,\n",
    "        color_lock={'depth': [start, end]},\n",
    "        depth=[start, end],\n",
    "        xp_depth_by_index=[cursor, cursor+window_index],\n",
    "        static=True\n",
    "    ).write_image(\"frames/\"+str(i)+\".png\", engine=\"kaleido\")\n",
    "    paths.append(\"frames/\"+str(i)+\".png\")\n",
    "import imageio # pip install imageio[ffmpeg]\n",
    "ims = [imageio.imread(f) for f in paths]\n",
    "imageio.mimwrite(\"frames/all.mp4\", ims, fps=3)\n"
   ]
  },
  {
   "cell_type": "code",
   "execution_count": null,
   "id": "38f28fcc-41f6-4bb2-bcfc-57be90780c33",
   "metadata": {},
   "outputs": [],
   "source": [
    "# Works good to compare a whole range, no resolution (show zoomed in and zoomed out)\n",
    "\n",
    "#graph2.last_fig.set_color_range(\"depth\", (1100, 1800))"
   ]
  },
  {
   "cell_type": "code",
   "execution_count": null,
   "id": "549213e8",
   "metadata": {},
   "outputs": [],
   "source": [
    "#graph2.last_fig.add_shape(type=\"line\", x0=.5, x1=.8, y0=1120, y1=1120, xref='paper', yref=\"y2\", line_dash=\"dot\")\n",
    "\n",
    "#graph2.last_fig.add_shape(type=\"line\", x0=100, x1=100, y0=0, y1=1, xref='x2', yref=\"paper\", line_dash=\"dot\")\n",
    "\n",
    "# we can use paper and regular line if maybe we store a bit... in the figure? in the renderer? what are our coordinates\n",
    "# we need it but we kinda need to see if it works"
   ]
  }
 ],
 "metadata": {
  "kernelspec": {
   "display_name": "fft_sandbox",
   "language": "python",
   "name": "fft_sandbox"
  },
  "language_info": {
   "codemirror_mode": {
    "name": "ipython",
    "version": 3
   },
   "file_extension": ".py",
   "mimetype": "text/x-python",
   "name": "python",
   "nbconvert_exporter": "python",
   "pygments_lexer": "ipython3",
   "version": "3.11.8"
  }
 },
 "nbformat": 4,
 "nbformat_minor": 5
}
