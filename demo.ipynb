{
 "cells": [
  {
   "cell_type": "markdown",
   "id": "66772f8c",
   "metadata": {},
   "source": [
    "# Pozo Demo\n",
    "\n",
    "\n",
    "### Step 1: Import Packages"
   ]
  },
  {
   "cell_type": "code",
   "execution_count": null,
   "id": "17af194b-e2a6-40ef-aa07-6e3f15d4f247",
   "metadata": {},
   "outputs": [],
   "source": [
    "import lasio # Lasio reads well las files!\n",
    "import pozo # Pozo visualizes them!"
   ]
  },
  {
   "cell_type": "markdown",
   "id": "9f5ecdc1-e577-4cd1-ab2e-11bf0a67fee0",
   "metadata": {},
   "source": [
    "### Step 2: Import and Verify Data"
   ]
  },
  {
   "cell_type": "code",
   "execution_count": null,
   "id": "7db8da54-4ead-40b9-a26c-0fd4b660e1cb",
   "metadata": {},
   "outputs": [],
   "source": [
    "las = lasio.read(\"https://raw.githubusercontent.com/geopozo/pozo-demo/main/SALADIN.LAS\")\n",
    "\n",
    "pozo.units.check_las(las)"
   ]
  },
  {
   "cell_type": "code",
   "execution_count": null,
   "id": "df4df007-e9c5-4f7e-9674-75361d0e45e7",
   "metadata": {},
   "outputs": [],
   "source": [
    "\n",
    "declaration = [\n",
    "    { # Track 1\n",
    "        \"GR\": {\n",
    "            \"mnemonics\": [\"CGR\", \"GR\", \"SGR\"],\n",
    "            \"optional\": False,\n",
    "        },\n",
    "        \"CALI\": {\n",
    "            \"mnemonics\": [\"CALI\"],\n",
    "            \"optional\": True,\n",
    "        },\n",
    "    },\n",
    "    { # Track 2\n",
    "        \"LLS\": {\n",
    "            \"mnemonics\": [\"LLS\"],\n",
    "            \"optional\": False,\n",
    "            }\n",
    "    }\n",
    "]\n",
    "graph_declarative = pozo.Graph(las, declare=declaration)\n",
    "graph_declarative.set_theme(\"cangrejo\")\n",
    "graph_declarative.render()"
   ]
  },
  {
   "cell_type": "code",
   "execution_count": null,
   "id": "27e8f235-2238-4d75-b691-a01f6f4b5f73",
   "metadata": {},
   "outputs": [],
   "source": [
    "graph1 = pozo.Graph(las, unit_map={\"THOR\":\"ppm\", \"POTA\":\"fraction\"})\n",
    "graph1.summarize_curves(height=600)"
   ]
  },
  {
   "cell_type": "markdown",
   "id": "796ff3bf-883a-4d03-b49d-4847b929f3ee",
   "metadata": {},
   "source": [
    "### Step 3: Customize The Graph"
   ]
  },
  {
   "cell_type": "code",
   "execution_count": null,
   "id": "c1d82e18-7028-49d0-8436-2e41fb586ff4",
   "metadata": {},
   "outputs": [],
   "source": [
    "include = [\"CALI\", \"CGR\", \"LLS\", \"ILM\", \"ILD\", \"LLD\", \"NPHI\", \"RHOB\", \"GR\"]\n",
    "graph2 = pozo.Graph(las,  yaxis_name=\"DEPT:1\", include=include) \n",
    "\n",
    "# Combining CGR CALI\n",
    "graph2.combine_tracks(\"CGR\", \"CALI\")\n",
    "\n",
    "# Combining Conductivities\n",
    "graph2.combine_tracks(\"LLD\",\"ILD\",\"ILM\",\"LLS\") \n",
    "\n",
    "# Combining NPHI RHOB\n",
    "graph2.combine_tracks(\"RHOB\", \"NPHI\")\n",
    "\n",
    "\n",
    "graph2.set_theme(\"cangrejo\")\n",
    "graph2.get_theme().set_fallback(\"track_width\", 150)\n",
    "\n",
    "# This could have a better interface\n",
    "graph2.depth_notes['Mardie Greensand'] = dict(range = 1105, color=\"#00FFFF\")\n",
    "graph2.depth_notes['Barrow Group'] = dict(range = 1115, color=\"green\")\n",
    "\n",
    "graph2.render(depth_position=0, show_depth=True, depth=[1080, 1180])"
   ]
  },
  {
   "cell_type": "markdown",
   "id": "4797c6c3-bcc5-47be-9a5a-c8d3735dbdc4",
   "metadata": {},
   "source": [
    "### Step 4: Make a crossplot"
   ]
  },
  {
   "cell_type": "code",
   "execution_count": null,
   "id": "0cf8bb34-ed2a-4839-9306-ecbb25e7b21e",
   "metadata": {},
   "outputs": [],
   "source": [
    "graph2.CrossPlot(\n",
    "    x = graph2.get_traces(pozo.HasLog(\"NPHI\"))[0],\n",
    "    y = graph2.get_traces(pozo.HasLog(\"RHOB\"))[0],\n",
    "    colors = [\"depth\"],#, graph2.get_traces(pozo.HasLog(\"GR\"))[0]],\n",
    "    xrange=(45, -15),\n",
    "    yrange=(1.95, 2.945),\n",
    "    size=800,\n",
    "    depth_range=(1100, 1300),\n",
    ").render()"
   ]
  },
  {
   "cell_type": "markdown",
   "id": "bc00d64f-6bc7-4533-8878-c6121451308e",
   "metadata": {},
   "source": [
    "### Step 5: Make an interactive crossplot"
   ]
  },
  {
   "cell_type": "code",
   "execution_count": null,
   "id": "791eaa6c-880f-4ca7-a359-b3ac8ceee71a",
   "metadata": {},
   "outputs": [],
   "source": [
    "graph2.render(height=800, depth_position=1, xp=graph2.xp, depth=[1100, 1300],)"
   ]
  },
  {
   "cell_type": "code",
   "execution_count": null,
   "id": "abe2f175-80ee-4886-b365-6b0a8f18fa53",
   "metadata": {},
   "outputs": [],
   "source": [
    "\"\"\"pozo.renderers.plotly.make_xp_depth_video(folder_name = \"frames\",\n",
    "                                 graph = graph2,\n",
    "                                 window = 25,\n",
    "                                 start = 1100,\n",
    "                                 end = 1200)\"\"\";"
   ]
  },
  {
   "cell_type": "code",
   "execution_count": null,
   "id": "38f28fcc-41f6-4bb2-bcfc-57be90780c33",
   "metadata": {},
   "outputs": [],
   "source": [
    "# Works good to compare a whole range, no resolution (show zoomed in and zoomed out)\n",
    "\n",
    "#graph2.last_fig.set_color_range(\"depth\", (1100, 1800))"
   ]
  }
 ],
 "metadata": {
  "kernelspec": {
   "display_name": "fft_sandbox",
   "language": "python",
   "name": "fft_sandbox"
  },
  "language_info": {
   "codemirror_mode": {
    "name": "ipython",
    "version": 3
   },
   "file_extension": ".py",
   "mimetype": "text/x-python",
   "name": "python",
   "nbconvert_exporter": "python",
   "pygments_lexer": "ipython3",
   "version": "3.11.8"
  }
 },
 "nbformat": 4,
 "nbformat_minor": 5
}
